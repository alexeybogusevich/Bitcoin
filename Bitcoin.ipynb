{
 "cells": [
  {
   "cell_type": "code",
   "execution_count": 4,
   "metadata": {},
   "outputs": [],
   "source": [
    "import hashlib\n",
    "import random\n",
    "import json\n",
    "import os"
   ]
  },
  {
   "cell_type": "code",
   "execution_count": 70,
   "metadata": {},
   "outputs": [],
   "source": [
    "chain_path = os.curdir + '/blocks/'\n",
    "users = ['Ter Stegen',\n",
    "              'Semedo', 'Pique', 'Lenglet', 'Alba',\n",
    "              'Rakitic', 'Busquets', 'De Jong', \n",
    "              'Messi', 'Suarez', 'Vidal']\n",
    "max_amount = 1000000\n",
    "max_transactions = 100"
   ]
  },
  {
   "cell_type": "code",
   "execution_count": 76,
   "metadata": {},
   "outputs": [],
   "source": [
    "def fill_structures(amount, sender, receiver):\n",
    "    userWallets[sender] -= amount\n",
    "    userWallets[receiver] += amount\n",
    "    userTransactions[sender].append([-amount, receiver, ''])\n",
    "    userTransactions[receiver].append([amount, sender, ''])\n",
    "    "
   ]
  },
  {
   "cell_type": "code",
   "execution_count": 40,
   "metadata": {},
   "outputs": [],
   "source": [
    "def load_structures_from_files():\n",
    "    files = os.listdir(chain_path)\n",
    "    files = sorted([int(i) for i in files])\n",
    "    for file in files[1:]:\n",
    "        f = open(chain_path + str(file))\n",
    "    block = json.load(f)\n",
    "    for transaction in block['transactions']:\n",
    "        sender = transaction['sender']\n",
    "        receiver = transaction['receiver']\n",
    "        amount = transaction['amount']\n",
    "        userWallets[sender] -= amount\n",
    "        userWallets[receiver] += amount\n",
    "        userTransactions[sender].append([-amount, receiver])\n",
    "        userTransactions[receiver].append([amount, sender])"
   ]
  },
  {
   "cell_type": "code",
   "execution_count": 41,
   "metadata": {},
   "outputs": [],
   "source": [
    "def delete_history():\n",
    "    files = os.listdir(chain_path)\n",
    "    files = sorted([int(i) for i in files])\n",
    "    for file in files[1:]:\n",
    "        os.remove(chain_path + str(file))"
   ]
  },
  {
   "cell_type": "code",
   "execution_count": 78,
   "metadata": {},
   "outputs": [],
   "source": [
    "userTransactions = {}\n",
    "for u in users:\n",
    "    userTransactions[u] = []"
   ]
  },
  {
   "cell_type": "code",
   "execution_count": 79,
   "metadata": {
    "scrolled": true
   },
   "outputs": [
    {
     "data": {
      "text/plain": [
       "{'Ter Stegen': [],\n",
       " 'Semedo': [],\n",
       " 'Pique': [],\n",
       " 'Lenglet': [],\n",
       " 'Alba': [],\n",
       " 'Rakitic': [],\n",
       " 'Busquets': [],\n",
       " 'De Jong': [],\n",
       " 'Messi': [],\n",
       " 'Suarez': [],\n",
       " 'Vidal': []}"
      ]
     },
     "execution_count": 79,
     "metadata": {},
     "output_type": "execute_result"
    }
   ],
   "source": [
    "userTransactions"
   ]
  },
  {
   "cell_type": "code",
   "execution_count": 80,
   "metadata": {},
   "outputs": [],
   "source": [
    "userWallets = {}\n",
    "for u in users:\n",
    "    userWallets[u] = 0"
   ]
  },
  {
   "cell_type": "code",
   "execution_count": 84,
   "metadata": {
    "scrolled": false
   },
   "outputs": [
    {
     "data": {
      "text/plain": [
       "{'Ter Stegen': 0,\n",
       " 'Semedo': 7420,\n",
       " 'Pique': 62434,\n",
       " 'Lenglet': 137001,\n",
       " 'Alba': 80676,\n",
       " 'Rakitic': 10940,\n",
       " 'Busquets': -67083,\n",
       " 'De Jong': 59234,\n",
       " 'Messi': -153269,\n",
       " 'Suarez': -22629,\n",
       " 'Vidal': -114724}"
      ]
     },
     "execution_count": 84,
     "metadata": {},
     "output_type": "execute_result"
    }
   ],
   "source": [
    "userWallets"
   ]
  },
  {
   "cell_type": "code",
   "execution_count": 82,
   "metadata": {},
   "outputs": [],
   "source": [
    "#delete_history()"
   ]
  },
  {
   "cell_type": "code",
   "execution_count": 83,
   "metadata": {},
   "outputs": [],
   "source": [
    "load_structures_from_files()"
   ]
  },
  {
   "cell_type": "code",
   "execution_count": 43,
   "metadata": {},
   "outputs": [],
   "source": [
    "def get_hash(block_file):\n",
    "    file = open(chain_path + block_file, 'rb').read()\n",
    "    return hashlib.sha256(file).hexdigest()"
   ]
  },
  {
   "cell_type": "code",
   "execution_count": 86,
   "metadata": {},
   "outputs": [],
   "source": [
    "def integrity_check():\n",
    "    files = os.listdir(chain_path)\n",
    "    files = sorted([int(i) for i in files])\n",
    "    for file in files[1:]:\n",
    "        f = open(chain_path + str(file))\n",
    "        prev_file_hash = json.load(f)['prev_hash']\n",
    "        prev_file = str(file - 1)\n",
    "        prev_file_actual_hash = get_hash(prev_file)\n",
    "        if prev_file_hash == prev_file_actual_hash:\n",
    "            result = 'Holistic'\n",
    "        else:\n",
    "            result = 'Damaged'\n",
    "        print('Block {} is {}'.format(prev_file, result))"
   ]
  },
  {
   "cell_type": "code",
   "execution_count": 87,
   "metadata": {},
   "outputs": [
    {
     "name": "stdout",
     "output_type": "stream",
     "text": [
      "Block 0 is Holistic\n",
      "Block 1 is Holistic\n",
      "Block 2 is Holistic\n",
      "Block 3 is Holistic\n",
      "Block 4 is Holistic\n",
      "Block 5 is Holistic\n",
      "Block 6 is Holistic\n",
      "Block 7 is Holistic\n",
      "Block 8 is Holistic\n",
      "Block 9 is Holistic\n",
      "Block 10 is Holistic\n"
     ]
    }
   ],
   "source": [
    "integrity_check()"
   ]
  },
  {
   "cell_type": "code",
   "execution_count": 45,
   "metadata": {},
   "outputs": [],
   "source": [
    "def save_block(transactions):\n",
    "    files = os.listdir(chain_path)\n",
    "    files = sorted([int(i) for i in files])\n",
    "\n",
    "    last_file = 0\n",
    "    prev_hash = 0\n",
    "    if len(files) != 0:\n",
    "        last_file = files[-1]\n",
    "        prev_hash = get_hash(str(last_file))\n",
    "\n",
    "    filename = str(last_file + 1)\n",
    "    \n",
    "    data = \n",
    "    {\n",
    "        'transactions': transactions,\n",
    "        'nonce': 0,\n",
    "        'prev_hash': prev_hash\n",
    "    }\n",
    "\n",
    "    with open(chain_path + filename, 'w') as file:\n",
    "        json.dump(data, file, indent=4)\n",
    "\n",
    "    while not str(get_hash(filename)).startswith('000'):\n",
    "        data['nonce'] += random.randint(10, 1000)\n",
    "        with open(chain_path + filename, 'w') as file:\n",
    "            json.dump(data, file, indent=4)"
   ]
  },
  {
   "cell_type": "code",
   "execution_count": 46,
   "metadata": {},
   "outputs": [],
   "source": [
    "def generate_transactions(size):\n",
    "    transactions = []\n",
    "    for i in range(size):\n",
    "        sender = users[random.randint(1, len(users) - 1)]\n",
    "        receiver = sender\n",
    "        while receiver == sender:\n",
    "            receiver = users[random.randint(1, len(users) - 1)]\n",
    "        wallet = userWallets[sender]\n",
    "        if wallet > 0:\n",
    "            amount = random.randint(1, int(wallet / 10))\n",
    "            fill_structures(amount,sender,receiver)\n",
    "            transaction = \n",
    "            {\n",
    "                'amount': amount,\n",
    "                'sender': sender,\n",
    "                'receiver': receiver\n",
    "            }\n",
    "            transactions.append(transaction)\n",
    "\n",
    "    return transactions"
   ]
  },
  {
   "cell_type": "code",
   "execution_count": 69,
   "metadata": {},
   "outputs": [],
   "source": [
    "def start_mining(size):\n",
    "    for i in range(0, size):\n",
    "        number = random.randint(10, max_transactions)\n",
    "        transactions = generate_transactions(number)\n",
    "        save_block(transactions)"
   ]
  },
  {
   "cell_type": "code",
   "execution_count": 115,
   "metadata": {},
   "outputs": [],
   "source": [
    "def get_wallets():\n",
    "    for username in users[1:]:\n",
    "        print(username, \": \", userWallets[username])"
   ]
  },
  {
   "cell_type": "code",
   "execution_count": 117,
   "metadata": {
    "scrolled": true
   },
   "outputs": [
    {
     "name": "stdout",
     "output_type": "stream",
     "text": [
      "Semedo :  7420\n",
      "Pique :  62434\n",
      "Lenglet :  137001\n",
      "Alba :  80676\n",
      "Rakitic :  10940\n",
      "Busquets :  -67083\n",
      "De Jong :  59234\n",
      "Messi :  -153269\n",
      "Suarez :  -22629\n",
      "Vidal :  -114724\n"
     ]
    }
   ],
   "source": [
    "get_wallets()"
   ]
  },
  {
   "cell_type": "code",
   "execution_count": 98,
   "metadata": {},
   "outputs": [],
   "source": [
    "def get_transactions_bigger_than(value):\n",
    "    for user in users:\n",
    "        for transaction in userTransactions[user]:\n",
    "            if(abs(transaction[0]) > value):\n",
    "                if(transaction[0] > 0): #receiver\n",
    "                    print('TRANSACTION: ' + user + ' received ' + str(transaction[0]) + ' from ' + str(transaction[1]))\n",
    "                else:\n",
    "                    print('TRANSACTION: ' + transaction[1] + ' received ' + str(transaction[0]) + ' from ' + str(user))\n"
   ]
  },
  {
   "cell_type": "code",
   "execution_count": 101,
   "metadata": {},
   "outputs": [],
   "source": [
    "#get_transactions_bigger_than(10000)"
   ]
  },
  {
   "cell_type": "code",
   "execution_count": 105,
   "metadata": {},
   "outputs": [],
   "source": [
    "def get_transactions_less_than(value):\n",
    "    for user in users:\n",
    "        for transaction in userTransactions[user]:\n",
    "            if(abs(transaction[0]) < value):\n",
    "                if(transaction[0] > 0): #receiver\n",
    "                    print('TRANSACTION: ' + user + ' received ' + str(abs(transaction[0])) + ' from ' + str(transaction[1]))\n",
    "                else: #sender\n",
    "                    print('TRANSACTION: ' + transaction[1] + ' received ' + str(abs(transaction[0])) + ' from ' + str(user))"
   ]
  },
  {
   "cell_type": "code",
   "execution_count": 111,
   "metadata": {},
   "outputs": [],
   "source": [
    "#get_transactions_less_than(10000)"
   ]
  },
  {
   "cell_type": "code",
   "execution_count": 51,
   "metadata": {},
   "outputs": [],
   "source": [
    "def initiate_first_transaction():\n",
    "    transactions = []\n",
    "    for i in range(len(users) - 1):\n",
    "        sender = users[0]\n",
    "        receiver = users[i + 1]\n",
    "        amount = random.randint(10000, max_amount)\n",
    "        fill_structures(amount,sender,receiver)\n",
    "        transaction = \n",
    "        {\n",
    "            'amount': amount,\n",
    "            'sender': sender,\n",
    "            'receiver': receiver\n",
    "        }\n",
    "        transactions.append(transaction)\n",
    "\n",
    "    save_block(transactions)"
   ]
  },
  {
   "cell_type": "code",
   "execution_count": 107,
   "metadata": {},
   "outputs": [],
   "source": [
    "def get_sum_of_transactions_in_block(filename):\n",
    "    value = 0\n",
    "    with open(chain_path + str(filename)) as file:\n",
    "        data = json.load(file)['transactions']\n",
    "    for transaction in data:\n",
    "        value += transaction['amount']\n",
    "    return value"
   ]
  },
  {
   "cell_type": "code",
   "execution_count": 110,
   "metadata": {},
   "outputs": [
    {
     "data": {
      "text/plain": [
       "1262892"
      ]
     },
     "execution_count": 110,
     "metadata": {},
     "output_type": "execute_result"
    }
   ],
   "source": [
    "get_sum_of_transactions_in_block(10)"
   ]
  },
  {
   "cell_type": "code",
   "execution_count": 53,
   "metadata": {
    "scrolled": true
   },
   "outputs": [],
   "source": [
    "initiate_mining()"
   ]
  },
  {
   "cell_type": "code",
   "execution_count": 54,
   "metadata": {},
   "outputs": [],
   "source": [
    "mining_blocks(10)"
   ]
  },
  {
   "cell_type": "code",
   "execution_count": null,
   "metadata": {},
   "outputs": [],
   "source": []
  }
 ],
 "metadata": {
  "kernelspec": {
   "display_name": "Python 3",
   "language": "python",
   "name": "python3"
  },
  "language_info": {
   "codemirror_mode": {
    "name": "ipython",
    "version": 3
   },
   "file_extension": ".py",
   "mimetype": "text/x-python",
   "name": "python",
   "nbconvert_exporter": "python",
   "pygments_lexer": "ipython3",
   "version": "3.6.6"
  }
 },
 "nbformat": 4,
 "nbformat_minor": 2
}
